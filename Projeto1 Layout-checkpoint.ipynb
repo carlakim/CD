{
 "cells": [
  {
   "cell_type": "markdown",
   "metadata": {},
   "source": [
    "___\n",
    "# Ciência dos Dados - PROJETO 1"
   ]
  },
  {
   "cell_type": "markdown",
   "metadata": {},
   "source": [
    "## Carla Kim Gaieski\n",
    "___"
   ]
  },
  {
   "cell_type": "markdown",
   "metadata": {},
   "source": [
    "## TÍTULO DO SEU PROJETO"
   ]
  },
  {
   "cell_type": "markdown",
   "metadata": {},
   "source": [
    "___\n",
    "## Introdução\n",
    "É fato que no Brasil existe uma má divisão da concentração de renda, que se encontra centralizado nos grandes centros urbanos. No entanto, o brasileiro, em geral, possui a tendência de usar seu dinheiro em bens materiais, mais do que em bens não duráveis e moradias. Por isso, nem sempre a pessoa que possui uma moradia alugada/ possui uma TV \"vintage\", nem aquele que possui um casa própria possui os melhores aparatos domesticos.\n",
    "A situação censitária junto com a espécie de domicílio interfere na qualidade,tubo ou fina, da televisão da residência?\n",
    "O tipo da televisão, tubo ou fina, está interligado com a situação censitária, junto com a espécie de domicílio?\n",
    "\n",
    "\n",
    "Descreva aqui o que pretende analisar!\n",
    "Se quiser pode utilizar pesquisas semelhantes publicadas em sites confiáveis!!\n"
   ]
  },
  {
   "cell_type": "markdown",
   "metadata": {},
   "source": [
    "___\n",
    "## Análise e Resultados"
   ]
  },
  {
   "cell_type": "code",
   "execution_count": 105,
   "metadata": {
    "collapsed": true
   },
   "outputs": [],
   "source": [
    "%matplotlib inline\n",
    "import pandas as pd\n",
    "import matplotlib.pyplot as plt\n",
    "import numpy as np\n",
    "import os"
   ]
  },
  {
   "cell_type": "code",
   "execution_count": 106,
   "metadata": {},
   "outputs": [
    {
     "name": "stdout",
     "output_type": "stream",
     "text": [
      "Esperamos trabalhar no diretório\n",
      "C:\\Users\\Carla Kim\\Downloads\n"
     ]
    }
   ],
   "source": [
    "print('Esperamos trabalhar no diretório')\n",
    "print(os.getcwd())"
   ]
  },
  {
   "cell_type": "code",
   "execution_count": 107,
   "metadata": {},
   "outputs": [
    {
     "data": {
      "text/html": [
       "<div>\n",
       "<style>\n",
       "    .dataframe thead tr:only-child th {\n",
       "        text-align: right;\n",
       "    }\n",
       "\n",
       "    .dataframe thead th {\n",
       "        text-align: left;\n",
       "    }\n",
       "\n",
       "    .dataframe tbody tr th {\n",
       "        vertical-align: top;\n",
       "    }\n",
       "</style>\n",
       "<table border=\"1\" class=\"dataframe\">\n",
       "  <thead>\n",
       "    <tr style=\"text-align: right;\">\n",
       "      <th></th>\n",
       "      <th>Espécie de domicílios</th>\n",
       "      <th>N TV tela tubo</th>\n",
       "      <th>N de TV tela fina</th>\n",
       "      <th>Rendimento mensal domiciliar per capta(R$)</th>\n",
       "      <th>Situação censitária</th>\n",
       "      <th>TV para acessar internet</th>\n",
       "    </tr>\n",
       "  </thead>\n",
       "  <tbody>\n",
       "    <tr>\n",
       "      <th>3</th>\n",
       "      <td>1.0</td>\n",
       "      <td>3.0</td>\n",
       "      <td>1.0</td>\n",
       "      <td>793.0</td>\n",
       "      <td>1</td>\n",
       "      <td>4.0</td>\n",
       "    </tr>\n",
       "    <tr>\n",
       "      <th>5</th>\n",
       "      <td>1.0</td>\n",
       "      <td>3.0</td>\n",
       "      <td>0.0</td>\n",
       "      <td>1990.0</td>\n",
       "      <td>1</td>\n",
       "      <td>4.0</td>\n",
       "    </tr>\n",
       "    <tr>\n",
       "      <th>8</th>\n",
       "      <td>1.0</td>\n",
       "      <td>3.0</td>\n",
       "      <td>1.0</td>\n",
       "      <td>818.0</td>\n",
       "      <td>1</td>\n",
       "      <td>4.0</td>\n",
       "    </tr>\n",
       "    <tr>\n",
       "      <th>10</th>\n",
       "      <td>1.0</td>\n",
       "      <td>1.0</td>\n",
       "      <td>1.0</td>\n",
       "      <td>1716.0</td>\n",
       "      <td>1</td>\n",
       "      <td>4.0</td>\n",
       "    </tr>\n",
       "    <tr>\n",
       "      <th>11</th>\n",
       "      <td>1.0</td>\n",
       "      <td>3.0</td>\n",
       "      <td>1.0</td>\n",
       "      <td>2500.0</td>\n",
       "      <td>1</td>\n",
       "      <td>4.0</td>\n",
       "    </tr>\n",
       "  </tbody>\n",
       "</table>\n",
       "</div>"
      ],
      "text/plain": [
       "    Espécie de domicílios  N TV tela tubo  N de TV tela fina  \\\n",
       "3                     1.0             3.0                1.0   \n",
       "5                     1.0             3.0                0.0   \n",
       "8                     1.0             3.0                1.0   \n",
       "10                    1.0             1.0                1.0   \n",
       "11                    1.0             3.0                1.0   \n",
       "\n",
       "    Rendimento mensal domiciliar per capta(R$)  Situação censitária  \\\n",
       "3                                        793.0                    1   \n",
       "5                                       1990.0                    1   \n",
       "8                                        818.0                    1   \n",
       "10                                      1716.0                    1   \n",
       "11                                      2500.0                    1   \n",
       "\n",
       "    TV para acessar internet  \n",
       "3                        4.0  \n",
       "5                        4.0  \n",
       "8                        4.0  \n",
       "10                       4.0  \n",
       "11                       4.0  "
      ]
     },
     "execution_count": 107,
     "metadata": {},
     "output_type": "execute_result"
    }
   ],
   "source": [
    "#criando meu DataFrame ja mudando o titulo das colunas da tabela\n",
    "\n",
    "dados = pd.read_csv('DOM2015.csv', sep=',')\n",
    "\n",
    "df = pd.DataFrame({'Situação censitária' : dados.V4105,'Espécie de domicílios': dados.V0201,\n",
    "                   'N de TV tela fina': dados.V02270, 'N TV tela tubo': dados.V02272,\n",
    "                   'TV para acessar internet': dados.V02326,'Rendimento mensal domiciliar per capta(R$)':dados.V4621})\n",
    "\n",
    "df.to_csv('Projeto1CD.csv')\n",
    "\n",
    "df.dropna().head()"
   ]
  },
  {
   "cell_type": "code",
   "execution_count": 108,
   "metadata": {},
   "outputs": [
    {
     "data": {
      "text/html": [
       "<div>\n",
       "<style>\n",
       "    .dataframe thead tr:only-child th {\n",
       "        text-align: right;\n",
       "    }\n",
       "\n",
       "    .dataframe thead th {\n",
       "        text-align: left;\n",
       "    }\n",
       "\n",
       "    .dataframe tbody tr th {\n",
       "        vertical-align: top;\n",
       "    }\n",
       "</style>\n",
       "<table border=\"1\" class=\"dataframe\">\n",
       "  <thead>\n",
       "    <tr style=\"text-align: right;\">\n",
       "      <th></th>\n",
       "      <th>Espécie de domicílios</th>\n",
       "      <th>N TV tela tubo</th>\n",
       "      <th>N de TV tela fina</th>\n",
       "      <th>Rendimento mensal domiciliar per capta(R$)</th>\n",
       "      <th>Situação censitária</th>\n",
       "      <th>TV para acessar internet</th>\n",
       "    </tr>\n",
       "  </thead>\n",
       "  <tbody>\n",
       "    <tr>\n",
       "      <th>3</th>\n",
       "      <td>Particular permanente</td>\n",
       "      <td>3.0</td>\n",
       "      <td>1.0</td>\n",
       "      <td>793.0</td>\n",
       "      <td>URBANA - Cidade ou vila, área urbanizada</td>\n",
       "      <td>Nao</td>\n",
       "    </tr>\n",
       "    <tr>\n",
       "      <th>5</th>\n",
       "      <td>Particular permanente</td>\n",
       "      <td>3.0</td>\n",
       "      <td>0.0</td>\n",
       "      <td>1990.0</td>\n",
       "      <td>URBANA - Cidade ou vila, área urbanizada</td>\n",
       "      <td>Nao</td>\n",
       "    </tr>\n",
       "    <tr>\n",
       "      <th>8</th>\n",
       "      <td>Particular permanente</td>\n",
       "      <td>3.0</td>\n",
       "      <td>1.0</td>\n",
       "      <td>818.0</td>\n",
       "      <td>URBANA - Cidade ou vila, área urbanizada</td>\n",
       "      <td>Nao</td>\n",
       "    </tr>\n",
       "    <tr>\n",
       "      <th>10</th>\n",
       "      <td>Particular permanente</td>\n",
       "      <td>1.0</td>\n",
       "      <td>1.0</td>\n",
       "      <td>1716.0</td>\n",
       "      <td>URBANA - Cidade ou vila, área urbanizada</td>\n",
       "      <td>Nao</td>\n",
       "    </tr>\n",
       "    <tr>\n",
       "      <th>11</th>\n",
       "      <td>Particular permanente</td>\n",
       "      <td>3.0</td>\n",
       "      <td>1.0</td>\n",
       "      <td>2500.0</td>\n",
       "      <td>URBANA - Cidade ou vila, área urbanizada</td>\n",
       "      <td>Nao</td>\n",
       "    </tr>\n",
       "  </tbody>\n",
       "</table>\n",
       "</div>"
      ],
      "text/plain": [
       "    Espécie de domicílios  N TV tela tubo  N de TV tela fina  \\\n",
       "3   Particular permanente             3.0                1.0   \n",
       "5   Particular permanente             3.0                0.0   \n",
       "8   Particular permanente             3.0                1.0   \n",
       "10  Particular permanente             1.0                1.0   \n",
       "11  Particular permanente             3.0                1.0   \n",
       "\n",
       "    Rendimento mensal domiciliar per capta(R$)  \\\n",
       "3                                        793.0   \n",
       "5                                       1990.0   \n",
       "8                                        818.0   \n",
       "10                                      1716.0   \n",
       "11                                      2500.0   \n",
       "\n",
       "                         Situação censitária TV para acessar internet  \n",
       "3   URBANA - Cidade ou vila, área urbanizada                      Nao  \n",
       "5   URBANA - Cidade ou vila, área urbanizada                      Nao  \n",
       "8   URBANA - Cidade ou vila, área urbanizada                      Nao  \n",
       "10  URBANA - Cidade ou vila, área urbanizada                      Nao  \n",
       "11  URBANA - Cidade ou vila, área urbanizada                      Nao  "
      ]
     },
     "execution_count": 108,
     "metadata": {},
     "output_type": "execute_result"
    }
   ],
   "source": [
    "#Mudando as variaveis qualitativas(coluna \"Situacao censitaria\",\"Espécie de domicílios\",\"TV para acessar internet\") para uma categoria.\n",
    "#Mudando os numeros pelo equivalente da variavel qualitativa em texto\n",
    "\n",
    "df['Situação censitária']= df['Situação censitária'].astype('category')\n",
    "df['Situação censitária'].cat.categories = ('URBANA - Cidade ou vila, área urbanizada', 'URBANA - Cidade ou vila, área não urbanizada',\n",
    "                              'URBANA - Área urbana isolada', 'RURAL - Aglomerado rural de extensão urbana', \n",
    "                              'RURAL - Aglomerado rural, isolado, povoado','RURAL - Aglomerado rural, isolado, núcleo',\n",
    "                              'RURAL - Aglomerado rural, isolado, outros aglomerados',\n",
    "                              'RURAL - Zona rural exclusive aglomerado rural ')\n",
    "\n",
    "df['Espécie de domicílios']= df['Espécie de domicílios'].astype('category')\n",
    "df['Espécie de domicílios'].cat.categories = ('Particular permanente', 'Particular improvisado',\n",
    "                              'Coletivo')\n",
    "\n",
    "df['TV para acessar internet']= df['TV para acessar internet'].astype('category')\n",
    "df['TV para acessar internet'].cat.categories = ('Sim', 'Nao')\n",
    "\n",
    "\n",
    "df.dropna().head()"
   ]
  },
  {
   "cell_type": "markdown",
   "metadata": {},
   "source": [
    "CONATNDO AS VARIAVEIS - frequencia relativa em percentual"
   ]
  },
  {
   "cell_type": "code",
   "execution_count": 109,
   "metadata": {},
   "outputs": [
    {
     "data": {
      "text/plain": [
       "URBANA - Cidade ou vila, área urbanizada                 82.757343\n",
       "RURAL - Zona rural exclusive aglomerado rural            12.287270\n",
       "RURAL - Aglomerado rural, isolado, povoado                2.088115\n",
       "URBANA - Cidade ou vila, área não urbanizada              1.545747\n",
       "URBANA - Área urbana isolada                              0.725582\n",
       "RURAL - Aglomerado rural de extensão urbana               0.410083\n",
       "RURAL - Aglomerado rural, isolado, outros aglomerados     0.123025\n",
       "RURAL - Aglomerado rural, isolado, núcleo                 0.062835\n",
       "Name: Situação censitária, dtype: float64"
      ]
     },
     "execution_count": 109,
     "metadata": {},
     "output_type": "execute_result"
    }
   ],
   "source": [
    "df['Situação censitária'].value_counts(True)*100"
   ]
  },
  {
   "cell_type": "code",
   "execution_count": 110,
   "metadata": {},
   "outputs": [
    {
     "data": {
      "text/plain": [
       "Nao    92.76469\n",
       "Sim     7.23531\n",
       "Name: TV para acessar internet, dtype: float64"
      ]
     },
     "execution_count": 110,
     "metadata": {},
     "output_type": "execute_result"
    }
   ],
   "source": [
    "df['TV para acessar internet'].value_counts(True)*100"
   ]
  },
  {
   "cell_type": "code",
   "execution_count": 111,
   "metadata": {},
   "outputs": [
    {
     "data": {
      "text/plain": [
       "Particular permanente     99.713411\n",
       "Particular improvisado     0.202647\n",
       "Coletivo                   0.083942\n",
       "Name: Espécie de domicílios, dtype: float64"
      ]
     },
     "execution_count": 111,
     "metadata": {},
     "output_type": "execute_result"
    }
   ],
   "source": [
    "df['Espécie de domicílios'].value_counts(True)*100"
   ]
  },
  {
   "cell_type": "markdown",
   "metadata": {},
   "source": [
    "CRUZANDO DUAS VARIAVEIS QUALITATIVAS - CROSSTABLE"
   ]
  },
  {
   "cell_type": "code",
   "execution_count": 112,
   "metadata": {},
   "outputs": [
    {
     "data": {
      "text/html": [
       "<div>\n",
       "<style>\n",
       "    .dataframe thead tr:only-child th {\n",
       "        text-align: right;\n",
       "    }\n",
       "\n",
       "    .dataframe thead th {\n",
       "        text-align: left;\n",
       "    }\n",
       "\n",
       "    .dataframe tbody tr th {\n",
       "        vertical-align: top;\n",
       "    }\n",
       "</style>\n",
       "<table border=\"1\" class=\"dataframe\">\n",
       "  <thead>\n",
       "    <tr style=\"text-align: right;\">\n",
       "      <th>Espécie de domicílios</th>\n",
       "      <th>Particular permanente</th>\n",
       "      <th>Particular improvisado</th>\n",
       "      <th>Coletivo</th>\n",
       "    </tr>\n",
       "    <tr>\n",
       "      <th>Situação censitária</th>\n",
       "      <th></th>\n",
       "      <th></th>\n",
       "      <th></th>\n",
       "    </tr>\n",
       "  </thead>\n",
       "  <tbody>\n",
       "    <tr>\n",
       "      <th>URBANA - Cidade ou vila, área urbanizada</th>\n",
       "      <td>83.864540</td>\n",
       "      <td>0.176362</td>\n",
       "      <td>0.079702</td>\n",
       "    </tr>\n",
       "    <tr>\n",
       "      <th>URBANA - Cidade ou vila, área não urbanizada</th>\n",
       "      <td>1.517734</td>\n",
       "      <td>0.004239</td>\n",
       "      <td>0.000848</td>\n",
       "    </tr>\n",
       "    <tr>\n",
       "      <th>URBANA - Área urbana isolada</th>\n",
       "      <td>0.583352</td>\n",
       "      <td>0.000000</td>\n",
       "      <td>0.000848</td>\n",
       "    </tr>\n",
       "    <tr>\n",
       "      <th>RURAL - Aglomerado rural de extensão urbana</th>\n",
       "      <td>0.395120</td>\n",
       "      <td>0.000000</td>\n",
       "      <td>0.000000</td>\n",
       "    </tr>\n",
       "    <tr>\n",
       "      <th>RURAL - Aglomerado rural, isolado, povoado</th>\n",
       "      <td>2.119740</td>\n",
       "      <td>0.000000</td>\n",
       "      <td>0.000000</td>\n",
       "    </tr>\n",
       "    <tr>\n",
       "      <th>RURAL - Aglomerado rural, isolado, núcleo</th>\n",
       "      <td>0.058505</td>\n",
       "      <td>0.000000</td>\n",
       "      <td>0.000848</td>\n",
       "    </tr>\n",
       "    <tr>\n",
       "      <th>RURAL - Aglomerado rural, isolado, outros aglomerados</th>\n",
       "      <td>0.120401</td>\n",
       "      <td>0.000848</td>\n",
       "      <td>0.000000</td>\n",
       "    </tr>\n",
       "    <tr>\n",
       "      <th>RURAL - Zona rural exclusive aglomerado rural</th>\n",
       "      <td>11.054019</td>\n",
       "      <td>0.021197</td>\n",
       "      <td>0.001696</td>\n",
       "    </tr>\n",
       "  </tbody>\n",
       "</table>\n",
       "</div>"
      ],
      "text/plain": [
       "Espécie de domicílios                               Particular permanente  \\\n",
       "Situação censitária                                                         \n",
       "URBANA - Cidade ou vila, área urbanizada                        83.864540   \n",
       "URBANA - Cidade ou vila, área não urbanizada                     1.517734   \n",
       "URBANA - Área urbana isolada                                     0.583352   \n",
       "RURAL - Aglomerado rural de extensão urbana                      0.395120   \n",
       "RURAL - Aglomerado rural, isolado, povoado                       2.119740   \n",
       "RURAL - Aglomerado rural, isolado, núcleo                        0.058505   \n",
       "RURAL - Aglomerado rural, isolado, outros aglom...               0.120401   \n",
       "RURAL - Zona rural exclusive aglomerado rural                   11.054019   \n",
       "\n",
       "Espécie de domicílios                               Particular improvisado  \\\n",
       "Situação censitária                                                          \n",
       "URBANA - Cidade ou vila, área urbanizada                          0.176362   \n",
       "URBANA - Cidade ou vila, área não urbanizada                      0.004239   \n",
       "URBANA - Área urbana isolada                                      0.000000   \n",
       "RURAL - Aglomerado rural de extensão urbana                       0.000000   \n",
       "RURAL - Aglomerado rural, isolado, povoado                        0.000000   \n",
       "RURAL - Aglomerado rural, isolado, núcleo                         0.000000   \n",
       "RURAL - Aglomerado rural, isolado, outros aglom...                0.000848   \n",
       "RURAL - Zona rural exclusive aglomerado rural                     0.021197   \n",
       "\n",
       "Espécie de domicílios                               Coletivo  \n",
       "Situação censitária                                           \n",
       "URBANA - Cidade ou vila, área urbanizada            0.079702  \n",
       "URBANA - Cidade ou vila, área não urbanizada        0.000848  \n",
       "URBANA - Área urbana isolada                        0.000848  \n",
       "RURAL - Aglomerado rural de extensão urbana         0.000000  \n",
       "RURAL - Aglomerado rural, isolado, povoado          0.000000  \n",
       "RURAL - Aglomerado rural, isolado, núcleo           0.000848  \n",
       "RURAL - Aglomerado rural, isolado, outros aglom...  0.000000  \n",
       "RURAL - Zona rural exclusive aglomerado rural       0.001696  "
      ]
     },
     "execution_count": 112,
     "metadata": {},
     "output_type": "execute_result"
    }
   ],
   "source": [
    "ct = pd.crosstab(df['Situação censitária'], df['Espécie de domicílios'],normalize=True)\n",
    "soma_tabela = ct.sum().sum()\n",
    "ct*100/soma_tabela"
   ]
  },
  {
   "cell_type": "code",
   "execution_count": 113,
   "metadata": {},
   "outputs": [
    {
     "data": {
      "text/plain": [
       "0.0    685\n",
       "5.0      1\n",
       "6.0      1\n",
       "7.0      3\n",
       "8.0      8\n",
       "Name: Rendimento mensal domiciliar per capta(R$), dtype: int64"
      ]
     },
     "execution_count": 113,
     "metadata": {},
     "output_type": "execute_result"
    }
   ],
   "source": [
    "a = df['Rendimento mensal domiciliar per capta(R$)'].value_counts()\n",
    "a = a.sort_index(axis=0)\n",
    "a.head()"
   ]
  },
  {
   "cell_type": "code",
   "execution_count": 161,
   "metadata": {},
   "outputs": [
    {
     "data": {
      "text/html": [
       "<div>\n",
       "<style>\n",
       "    .dataframe thead tr:only-child th {\n",
       "        text-align: right;\n",
       "    }\n",
       "\n",
       "    .dataframe thead th {\n",
       "        text-align: left;\n",
       "    }\n",
       "\n",
       "    .dataframe tbody tr th {\n",
       "        vertical-align: top;\n",
       "    }\n",
       "</style>\n",
       "<table border=\"1\" class=\"dataframe\">\n",
       "  <thead>\n",
       "    <tr style=\"text-align: right;\">\n",
       "      <th>Situação censitária</th>\n",
       "      <th>URBANA - Cidade ou vila, área urbanizada</th>\n",
       "      <th>URBANA - Cidade ou vila, área não urbanizada</th>\n",
       "      <th>URBANA - Área urbana isolada</th>\n",
       "      <th>RURAL - Aglomerado rural de extensão urbana</th>\n",
       "      <th>RURAL - Aglomerado rural, isolado, povoado</th>\n",
       "      <th>RURAL - Aglomerado rural, isolado, núcleo</th>\n",
       "      <th>RURAL - Aglomerado rural, isolado, outros aglomerados</th>\n",
       "      <th>RURAL - Zona rural exclusive aglomerado rural</th>\n",
       "    </tr>\n",
       "    <tr>\n",
       "      <th>Rendimento mensal domiciliar per capta(R$)</th>\n",
       "      <th></th>\n",
       "      <th></th>\n",
       "      <th></th>\n",
       "      <th></th>\n",
       "      <th></th>\n",
       "      <th></th>\n",
       "      <th></th>\n",
       "      <th></th>\n",
       "    </tr>\n",
       "  </thead>\n",
       "  <tbody>\n",
       "    <tr>\n",
       "      <th>0.0</th>\n",
       "      <td>600</td>\n",
       "      <td>10</td>\n",
       "      <td>10</td>\n",
       "      <td>2</td>\n",
       "      <td>7</td>\n",
       "      <td>0</td>\n",
       "      <td>1</td>\n",
       "      <td>55</td>\n",
       "    </tr>\n",
       "    <tr>\n",
       "      <th>5.0</th>\n",
       "      <td>0</td>\n",
       "      <td>0</td>\n",
       "      <td>0</td>\n",
       "      <td>0</td>\n",
       "      <td>0</td>\n",
       "      <td>0</td>\n",
       "      <td>0</td>\n",
       "      <td>1</td>\n",
       "    </tr>\n",
       "    <tr>\n",
       "      <th>6.0</th>\n",
       "      <td>1</td>\n",
       "      <td>0</td>\n",
       "      <td>0</td>\n",
       "      <td>0</td>\n",
       "      <td>0</td>\n",
       "      <td>0</td>\n",
       "      <td>0</td>\n",
       "      <td>0</td>\n",
       "    </tr>\n",
       "    <tr>\n",
       "      <th>7.0</th>\n",
       "      <td>2</td>\n",
       "      <td>0</td>\n",
       "      <td>0</td>\n",
       "      <td>0</td>\n",
       "      <td>0</td>\n",
       "      <td>0</td>\n",
       "      <td>0</td>\n",
       "      <td>1</td>\n",
       "    </tr>\n",
       "    <tr>\n",
       "      <th>8.0</th>\n",
       "      <td>7</td>\n",
       "      <td>0</td>\n",
       "      <td>0</td>\n",
       "      <td>0</td>\n",
       "      <td>0</td>\n",
       "      <td>0</td>\n",
       "      <td>0</td>\n",
       "      <td>1</td>\n",
       "    </tr>\n",
       "  </tbody>\n",
       "</table>\n",
       "</div>"
      ],
      "text/plain": [
       "Situação censitária                         URBANA - Cidade ou vila, área urbanizada  \\\n",
       "Rendimento mensal domiciliar per capta(R$)                                             \n",
       "0.0                                                                              600   \n",
       "5.0                                                                                0   \n",
       "6.0                                                                                1   \n",
       "7.0                                                                                2   \n",
       "8.0                                                                                7   \n",
       "\n",
       "Situação censitária                         URBANA - Cidade ou vila, área não urbanizada  \\\n",
       "Rendimento mensal domiciliar per capta(R$)                                                 \n",
       "0.0                                                                                   10   \n",
       "5.0                                                                                    0   \n",
       "6.0                                                                                    0   \n",
       "7.0                                                                                    0   \n",
       "8.0                                                                                    0   \n",
       "\n",
       "Situação censitária                         URBANA - Área urbana isolada  \\\n",
       "Rendimento mensal domiciliar per capta(R$)                                 \n",
       "0.0                                                                   10   \n",
       "5.0                                                                    0   \n",
       "6.0                                                                    0   \n",
       "7.0                                                                    0   \n",
       "8.0                                                                    0   \n",
       "\n",
       "Situação censitária                         RURAL - Aglomerado rural de extensão urbana  \\\n",
       "Rendimento mensal domiciliar per capta(R$)                                                \n",
       "0.0                                                                                   2   \n",
       "5.0                                                                                   0   \n",
       "6.0                                                                                   0   \n",
       "7.0                                                                                   0   \n",
       "8.0                                                                                   0   \n",
       "\n",
       "Situação censitária                         RURAL - Aglomerado rural, isolado, povoado  \\\n",
       "Rendimento mensal domiciliar per capta(R$)                                               \n",
       "0.0                                                                                  7   \n",
       "5.0                                                                                  0   \n",
       "6.0                                                                                  0   \n",
       "7.0                                                                                  0   \n",
       "8.0                                                                                  0   \n",
       "\n",
       "Situação censitária                         RURAL - Aglomerado rural, isolado, núcleo  \\\n",
       "Rendimento mensal domiciliar per capta(R$)                                              \n",
       "0.0                                                                                 0   \n",
       "5.0                                                                                 0   \n",
       "6.0                                                                                 0   \n",
       "7.0                                                                                 0   \n",
       "8.0                                                                                 0   \n",
       "\n",
       "Situação censitária                         RURAL - Aglomerado rural, isolado, outros aglomerados  \\\n",
       "Rendimento mensal domiciliar per capta(R$)                                                          \n",
       "0.0                                                                                         1       \n",
       "5.0                                                                                         0       \n",
       "6.0                                                                                         0       \n",
       "7.0                                                                                         0       \n",
       "8.0                                                                                         0       \n",
       "\n",
       "Situação censitária                         RURAL - Zona rural exclusive aglomerado rural   \n",
       "Rendimento mensal domiciliar per capta(R$)                                                  \n",
       "0.0                                                                                     55  \n",
       "5.0                                                                                      1  \n",
       "6.0                                                                                      0  \n",
       "7.0                                                                                      1  \n",
       "8.0                                                                                      1  "
      ]
     },
     "execution_count": 161,
     "metadata": {},
     "output_type": "execute_result"
    }
   ],
   "source": [
    "ct4 = pd.crosstab(df['Rendimento mensal domiciliar per capta(R$)'],df['Situação censitária'])\n",
    "ct4.head()"
   ]
  },
  {
   "cell_type": "code",
   "execution_count": 157,
   "metadata": {},
   "outputs": [
    {
     "data": {
      "text/html": [
       "<div>\n",
       "<style>\n",
       "    .dataframe thead tr:only-child th {\n",
       "        text-align: right;\n",
       "    }\n",
       "\n",
       "    .dataframe thead th {\n",
       "        text-align: left;\n",
       "    }\n",
       "\n",
       "    .dataframe tbody tr th {\n",
       "        vertical-align: top;\n",
       "    }\n",
       "</style>\n",
       "<table border=\"1\" class=\"dataframe\">\n",
       "  <thead>\n",
       "    <tr style=\"text-align: right;\">\n",
       "      <th>Situação censitária</th>\n",
       "      <th>URBANA - Cidade ou vila, área urbanizada</th>\n",
       "      <th>URBANA - Cidade ou vila, área não urbanizada</th>\n",
       "      <th>URBANA - Área urbana isolada</th>\n",
       "      <th>RURAL - Aglomerado rural de extensão urbana</th>\n",
       "      <th>RURAL - Aglomerado rural, isolado, povoado</th>\n",
       "      <th>RURAL - Aglomerado rural, isolado, núcleo</th>\n",
       "      <th>RURAL - Aglomerado rural, isolado, outros aglomerados</th>\n",
       "      <th>RURAL - Zona rural exclusive aglomerado rural</th>\n",
       "    </tr>\n",
       "    <tr>\n",
       "      <th>N de TV tela fina</th>\n",
       "      <th></th>\n",
       "      <th></th>\n",
       "      <th></th>\n",
       "      <th></th>\n",
       "      <th></th>\n",
       "      <th></th>\n",
       "      <th></th>\n",
       "      <th></th>\n",
       "    </tr>\n",
       "  </thead>\n",
       "  <tbody>\n",
       "    <tr>\n",
       "      <th>0.0</th>\n",
       "      <td>32574</td>\n",
       "      <td>639</td>\n",
       "      <td>222</td>\n",
       "      <td>201</td>\n",
       "      <td>1493</td>\n",
       "      <td>35</td>\n",
       "      <td>92</td>\n",
       "      <td>7802</td>\n",
       "    </tr>\n",
       "    <tr>\n",
       "      <th>1.0</th>\n",
       "      <td>43982</td>\n",
       "      <td>794</td>\n",
       "      <td>340</td>\n",
       "      <td>196</td>\n",
       "      <td>804</td>\n",
       "      <td>21</td>\n",
       "      <td>40</td>\n",
       "      <td>3631</td>\n",
       "    </tr>\n",
       "    <tr>\n",
       "      <th>2.0</th>\n",
       "      <td>14758</td>\n",
       "      <td>231</td>\n",
       "      <td>87</td>\n",
       "      <td>53</td>\n",
       "      <td>41</td>\n",
       "      <td>6</td>\n",
       "      <td>2</td>\n",
       "      <td>308</td>\n",
       "    </tr>\n",
       "    <tr>\n",
       "      <th>3.0</th>\n",
       "      <td>4008</td>\n",
       "      <td>50</td>\n",
       "      <td>18</td>\n",
       "      <td>5</td>\n",
       "      <td>13</td>\n",
       "      <td>1</td>\n",
       "      <td>0</td>\n",
       "      <td>42</td>\n",
       "    </tr>\n",
       "    <tr>\n",
       "      <th>4.0</th>\n",
       "      <td>1100</td>\n",
       "      <td>8</td>\n",
       "      <td>6</td>\n",
       "      <td>1</td>\n",
       "      <td>0</td>\n",
       "      <td>0</td>\n",
       "      <td>0</td>\n",
       "      <td>13</td>\n",
       "    </tr>\n",
       "  </tbody>\n",
       "</table>\n",
       "</div>"
      ],
      "text/plain": [
       "Situação censitária  URBANA - Cidade ou vila, área urbanizada  \\\n",
       "N de TV tela fina                                               \n",
       "0.0                                                     32574   \n",
       "1.0                                                     43982   \n",
       "2.0                                                     14758   \n",
       "3.0                                                      4008   \n",
       "4.0                                                      1100   \n",
       "\n",
       "Situação censitária  URBANA - Cidade ou vila, área não urbanizada  \\\n",
       "N de TV tela fina                                                   \n",
       "0.0                                                           639   \n",
       "1.0                                                           794   \n",
       "2.0                                                           231   \n",
       "3.0                                                            50   \n",
       "4.0                                                             8   \n",
       "\n",
       "Situação censitária  URBANA - Área urbana isolada  \\\n",
       "N de TV tela fina                                   \n",
       "0.0                                           222   \n",
       "1.0                                           340   \n",
       "2.0                                            87   \n",
       "3.0                                            18   \n",
       "4.0                                             6   \n",
       "\n",
       "Situação censitária  RURAL - Aglomerado rural de extensão urbana  \\\n",
       "N de TV tela fina                                                  \n",
       "0.0                                                          201   \n",
       "1.0                                                          196   \n",
       "2.0                                                           53   \n",
       "3.0                                                            5   \n",
       "4.0                                                            1   \n",
       "\n",
       "Situação censitária  RURAL - Aglomerado rural, isolado, povoado  \\\n",
       "N de TV tela fina                                                 \n",
       "0.0                                                        1493   \n",
       "1.0                                                         804   \n",
       "2.0                                                          41   \n",
       "3.0                                                          13   \n",
       "4.0                                                           0   \n",
       "\n",
       "Situação censitária  RURAL - Aglomerado rural, isolado, núcleo  \\\n",
       "N de TV tela fina                                                \n",
       "0.0                                                         35   \n",
       "1.0                                                         21   \n",
       "2.0                                                          6   \n",
       "3.0                                                          1   \n",
       "4.0                                                          0   \n",
       "\n",
       "Situação censitária  RURAL - Aglomerado rural, isolado, outros aglomerados  \\\n",
       "N de TV tela fina                                                            \n",
       "0.0                                                                 92       \n",
       "1.0                                                                 40       \n",
       "2.0                                                                  2       \n",
       "3.0                                                                  0       \n",
       "4.0                                                                  0       \n",
       "\n",
       "Situação censitária  RURAL - Zona rural exclusive aglomerado rural   \n",
       "N de TV tela fina                                                    \n",
       "0.0                                                            7802  \n",
       "1.0                                                            3631  \n",
       "2.0                                                             308  \n",
       "3.0                                                              42  \n",
       "4.0                                                              13  "
      ]
     },
     "execution_count": 157,
     "metadata": {},
     "output_type": "execute_result"
    }
   ],
   "source": [
    "ct3 = pd.crosstab(df['N de TV tela fina'],df['Situação censitária'])\n",
    "ct3.head()"
   ]
  },
  {
   "cell_type": "code",
   "execution_count": 159,
   "metadata": {},
   "outputs": [
    {
     "data": {
      "text/html": [
       "<div>\n",
       "<style>\n",
       "    .dataframe thead tr:only-child th {\n",
       "        text-align: right;\n",
       "    }\n",
       "\n",
       "    .dataframe thead th {\n",
       "        text-align: left;\n",
       "    }\n",
       "\n",
       "    .dataframe tbody tr th {\n",
       "        vertical-align: top;\n",
       "    }\n",
       "</style>\n",
       "<table border=\"1\" class=\"dataframe\">\n",
       "  <thead>\n",
       "    <tr style=\"text-align: right;\">\n",
       "      <th>Situação censitária</th>\n",
       "      <th>URBANA - Cidade ou vila, área urbanizada</th>\n",
       "      <th>URBANA - Cidade ou vila, área não urbanizada</th>\n",
       "      <th>URBANA - Área urbana isolada</th>\n",
       "      <th>RURAL - Aglomerado rural de extensão urbana</th>\n",
       "      <th>RURAL - Aglomerado rural, isolado, povoado</th>\n",
       "      <th>RURAL - Aglomerado rural, isolado, núcleo</th>\n",
       "      <th>RURAL - Aglomerado rural, isolado, outros aglomerados</th>\n",
       "      <th>RURAL - Zona rural exclusive aglomerado rural</th>\n",
       "    </tr>\n",
       "    <tr>\n",
       "      <th>N TV tela tubo</th>\n",
       "      <th></th>\n",
       "      <th></th>\n",
       "      <th></th>\n",
       "      <th></th>\n",
       "      <th></th>\n",
       "      <th></th>\n",
       "      <th></th>\n",
       "      <th></th>\n",
       "    </tr>\n",
       "  </thead>\n",
       "  <tbody>\n",
       "    <tr>\n",
       "      <th>1.0</th>\n",
       "      <td>33340</td>\n",
       "      <td>466</td>\n",
       "      <td>197</td>\n",
       "      <td>102</td>\n",
       "      <td>196</td>\n",
       "      <td>8</td>\n",
       "      <td>14</td>\n",
       "      <td>965</td>\n",
       "    </tr>\n",
       "    <tr>\n",
       "      <th>3.0</th>\n",
       "      <td>63491</td>\n",
       "      <td>1262</td>\n",
       "      <td>477</td>\n",
       "      <td>355</td>\n",
       "      <td>2157</td>\n",
       "      <td>55</td>\n",
       "      <td>120</td>\n",
       "      <td>10836</td>\n",
       "    </tr>\n",
       "  </tbody>\n",
       "</table>\n",
       "</div>"
      ],
      "text/plain": [
       "Situação censitária  URBANA - Cidade ou vila, área urbanizada  \\\n",
       "N TV tela tubo                                                  \n",
       "1.0                                                     33340   \n",
       "3.0                                                     63491   \n",
       "\n",
       "Situação censitária  URBANA - Cidade ou vila, área não urbanizada  \\\n",
       "N TV tela tubo                                                      \n",
       "1.0                                                           466   \n",
       "3.0                                                          1262   \n",
       "\n",
       "Situação censitária  URBANA - Área urbana isolada  \\\n",
       "N TV tela tubo                                      \n",
       "1.0                                           197   \n",
       "3.0                                           477   \n",
       "\n",
       "Situação censitária  RURAL - Aglomerado rural de extensão urbana  \\\n",
       "N TV tela tubo                                                     \n",
       "1.0                                                          102   \n",
       "3.0                                                          355   \n",
       "\n",
       "Situação censitária  RURAL - Aglomerado rural, isolado, povoado  \\\n",
       "N TV tela tubo                                                    \n",
       "1.0                                                         196   \n",
       "3.0                                                        2157   \n",
       "\n",
       "Situação censitária  RURAL - Aglomerado rural, isolado, núcleo  \\\n",
       "N TV tela tubo                                                   \n",
       "1.0                                                          8   \n",
       "3.0                                                         55   \n",
       "\n",
       "Situação censitária  RURAL - Aglomerado rural, isolado, outros aglomerados  \\\n",
       "N TV tela tubo                                                               \n",
       "1.0                                                                 14       \n",
       "3.0                                                                120       \n",
       "\n",
       "Situação censitária  RURAL - Zona rural exclusive aglomerado rural   \n",
       "N TV tela tubo                                                       \n",
       "1.0                                                             965  \n",
       "3.0                                                           10836  "
      ]
     },
     "execution_count": 159,
     "metadata": {},
     "output_type": "execute_result"
    }
   ],
   "source": [
    "ct4 = pd.crosstab(df['N TV tela tubo'],df['Situação censitária'])\n",
    "ct4.head()"
   ]
  },
  {
   "cell_type": "markdown",
   "metadata": {},
   "source": [
    "GRAFICOS"
   ]
  },
  {
   "cell_type": "code",
   "execution_count": 117,
   "metadata": {},
   "outputs": [
    {
     "data": {
      "text/plain": [
       "<matplotlib.text.Text at 0x1ea3fc8e9e8>"
      ]
     },
     "execution_count": 117,
     "metadata": {},
     "output_type": "execute_result"
    },
    {
     "data": {
      "image/png": "[encoded data removed]",
      "text/plain": [
       "<matplotlib.figure.Figure at 0x1ea3fc3ad30>"
      ]
     },
     "metadata": {},
     "output_type": "display_data"
    }
   ],
   "source": [
    "%matplotlib inline\n",
    "import matplotlib.pyplot as plt\n",
    "import matplotlib\n",
    "matplotlib.style.use('ggplot')\n",
    "\n",
    "ct1 = pd.crosstab(df['Situação censitária'], df['Espécie de domicílios'])\n",
    "#ct1 = (ct2/ct2.sum().sum()*100).round(decimals=0)\n",
    "ct1.plot(kind='bar', color=('yellow', 'salmon','pink'))\n",
    "plt.ylabel('Frequência Absoluta')"
   ]
  },
  {
   "cell_type": "markdown",
   "metadata": {},
   "source": [
    "VARIAVEIS QUANTITATIVAS"
   ]
  },
  {
   "cell_type": "code",
   "execution_count": 118,
   "metadata": {},
   "outputs": [
    {
     "data": {
      "text/plain": [
       "count    1.179390e+05\n",
       "mean     1.961183e+10\n",
       "std      1.386628e+11\n",
       "min      0.000000e+00\n",
       "25%      4.250000e+02\n",
       "50%      7.880000e+02\n",
       "75%      1.400000e+03\n",
       "max      1.000000e+12\n",
       "Name: Rendimento mensal domiciliar per capta(R$), dtype: float64"
      ]
     },
     "execution_count": 118,
     "metadata": {},
     "output_type": "execute_result"
    }
   ],
   "source": [
    "RENDA_cat = pd.cut(df['Rendimento mensal domiciliar per capta(R$)'], bins=10)\n",
    "df['Rendimento mensal domiciliar per capta(R$)'].describe()"
   ]
  },
  {
   "cell_type": "code",
   "execution_count": 119,
   "metadata": {},
   "outputs": [
    {
     "name": "stdout",
     "output_type": "stream",
     "text": [
      "Frequências absoluta:\n"
     ]
    },
    {
     "data": {
      "text/plain": [
       "(10, 60]       4.177356\n",
       "(60, 110]      6.182106\n",
       "(110, 160]     7.613618\n",
       "(160, 210]    10.596991\n",
       "(210, 260]    11.113222\n",
       "(260, 310]    16.250198\n",
       "(310, 360]    11.721298\n",
       "(360, 410]    20.516231\n",
       "(410, 460]    11.828979\n",
       "Name: Rendimento mensal domiciliar per capta(R$), dtype: float64"
      ]
     },
     "execution_count": 119,
     "metadata": {},
     "output_type": "execute_result"
    }
   ],
   "source": [
    "faixa = range(10,500,50)\n",
    "print('Frequências absoluta:')\n",
    "RENDA_cat = pd.cut(df['Rendimento mensal domiciliar per capta(R$)'], bins=faixa)\n",
    "RENDA_cat.value_counts(sort=False, normalize=True)*100"
   ]
  },
  {
   "cell_type": "code",
   "execution_count": 120,
   "metadata": {},
   "outputs": [
    {
     "name": "stdout",
     "output_type": "stream",
     "text": [
      "Frequências relativas:\n",
      "[10, 60)       4.0\n",
      "[60, 110)      6.3\n",
      "[110, 160)     7.4\n",
      "[160, 210)    10.8\n",
      "[210, 260)    11.0\n",
      "[260, 310)    16.4\n",
      "[310, 360)    11.6\n",
      "[360, 410)    20.7\n",
      "[410, 460)    11.8\n",
      "Name: Rendimento mensal domiciliar per capta(R$), dtype: float64 \n",
      "\n"
     ]
    }
   ],
   "source": [
    "# Tabelas univariada - PLANO A\n",
    "rendaAcat = pd.cut(df['Rendimento mensal domiciliar per capta(R$)'], faixa, right=False)\n",
    "print('Frequências relativas:')\n",
    "ut1 = (rendaAcat.value_counts(normalize=True)*100).round(decimals=1).reindex(faixa).dropna()\n",
    "print(ut1,'\\n')"
   ]
  },
  {
   "cell_type": "markdown",
   "metadata": {},
   "source": [
    "Gráfico de colunas com as frequências absolutas"
   ]
  },
  {
   "cell_type": "code",
   "execution_count": 121,
   "metadata": {},
   "outputs": [
    {
     "data": {
      "text/plain": [
       "<matplotlib.text.Text at 0x1ea3fcf6748>"
      ]
     },
     "execution_count": 121,
     "metadata": {},
     "output_type": "execute_result"
    },
    {
     "data": {
      "image/png": "[encoded data removed]",
      "text/plain": [
       "<matplotlib.figure.Figure at 0x1ea4030b320>"
      ]
     },
     "metadata": {},
     "output_type": "display_data"
    }
   ],
   "source": [
    "plot = df['Rendimento mensal domiciliar per capta(R$)'].plot.hist(bins=faixa,title='GRAFICO DE COLUNAS do rendimento mensal', figsize=(6,6), alpha=0.9)\n",
    "plt.ylabel('Frequência absoluta')\n",
    "plt.xlabel('renda (em reais)')"
   ]
  },
  {
   "cell_type": "code",
   "execution_count": 146,
   "metadata": {},
   "outputs": [
    {
     "name": "stdout",
     "output_type": "stream",
     "text": [
      "[(0, [0]), 0, 0, 0, 0, 0, 0, 0]\n",
      "[(0, [0]), (1, [125120]), 0, 0, 0, 0, 0, 0]\n",
      "[(0, [0]), (1, [125120]), (2, [4674]), 0, 0, 0, 0, 0]\n",
      "[(0, [0]), (1, [125120]), (2, [4674]), (3, [3291]), 0, 0, 0, 0]\n",
      "[(0, [0]), (1, [125120]), (2, [4674]), (3, [3291]), (4, [2480]), 0, 0, 0]\n",
      "[(0, [0]), (1, [125120]), (2, [4674]), (3, [3291]), (4, [2480]), (5, [15785]), 0, 0]\n",
      "[(0, [0]), (1, [125120]), (2, [4674]), (3, [3291]), (4, [2480]), (5, [15785]), (6, [570]), 0]\n",
      "[(0, [0]), (1, [125120]), (2, [4674]), (3, [3291]), (4, [2480]), (5, [15785]), (6, [570]), (7, [1302])]\n"
     ]
    }
   ],
   "source": [
    "#renda em casa regiao - situacao cencitaria\n",
    "o=[0]*8\n",
    "for i in range(8):\n",
    "    ddados2 = dados[ (dados.V4105 ==i)]\n",
    "    o[i] = (i,[ddados2.V4105.sum()])\n",
    "    print(o)"
   ]
  },
  {
   "cell_type": "code",
   "execution_count": 147,
   "metadata": {},
   "outputs": [
    {
     "data": {
      "text/html": [
       "<div>\n",
       "<style>\n",
       "    .dataframe thead tr:only-child th {\n",
       "        text-align: right;\n",
       "    }\n",
       "\n",
       "    .dataframe thead th {\n",
       "        text-align: left;\n",
       "    }\n",
       "\n",
       "    .dataframe tbody tr th {\n",
       "        vertical-align: top;\n",
       "    }\n",
       "</style>\n",
       "<table border=\"1\" class=\"dataframe\">\n",
       "  <thead>\n",
       "    <tr style=\"text-align: right;\">\n",
       "      <th></th>\n",
       "      <th>0</th>\n",
       "      <th>1</th>\n",
       "      <th>2</th>\n",
       "      <th>3</th>\n",
       "      <th>4</th>\n",
       "      <th>5</th>\n",
       "      <th>6</th>\n",
       "      <th>7</th>\n",
       "    </tr>\n",
       "  </thead>\n",
       "  <tbody>\n",
       "    <tr>\n",
       "      <th>0</th>\n",
       "      <td>0</td>\n",
       "      <td>125120</td>\n",
       "      <td>4674</td>\n",
       "      <td>3291</td>\n",
       "      <td>2480</td>\n",
       "      <td>15785</td>\n",
       "      <td>570</td>\n",
       "      <td>1302</td>\n",
       "    </tr>\n",
       "  </tbody>\n",
       "</table>\n",
       "</div>"
      ],
      "text/plain": [
       "   0       1     2     3     4      5    6     7\n",
       "0  0  125120  4674  3291  2480  15785  570  1302"
      ]
     },
     "execution_count": 147,
     "metadata": {},
     "output_type": "execute_result"
    }
   ],
   "source": [
    "df2 = pd.DataFrame.from_items(o)\n",
    "df2"
   ]
  },
  {
   "cell_type": "code",
   "execution_count": 148,
   "metadata": {},
   "outputs": [
    {
     "data": {
      "text/plain": [
       "<matplotlib.axes._subplots.AxesSubplot at 0x1ea41222ef0>"
      ]
     },
     "execution_count": 148,
     "metadata": {},
     "output_type": "execute_result"
    },
    {
     "data": {
      "image/png": "[encoded data removed]",
      "text/plain": [
       "<matplotlib.figure.Figure at 0x1ea411ceb38>"
      ]
     },
     "metadata": {},
     "output_type": "display_data"
    }
   ],
   "source": [
    "df2.plot(kind='bar',title='Renda por Situacao censitaria')\n"
   ]
  },
  {
   "cell_type": "code",
   "execution_count": 149,
   "metadata": {},
   "outputs": [],
   "source": [
    "#ct5 = pd.crosstab(df2[0],df2[1])\n",
    "#ct5"
   ]
  },
  {
   "cell_type": "code",
   "execution_count": 150,
   "metadata": {},
   "outputs": [],
   "source": [
    "#ddados = dados[ (dados.V4105>0)]\n",
    "#ct2 = pd.crosstab(df['Rendimento mensal domiciliar per capta(R$)'],ddados['V4105'], normalize=\"columns\")\n",
    "#ct2.plot(kind='hist',title = 'oi',stacked=True)"
   ]
  },
  {
   "cell_type": "markdown",
   "metadata": {},
   "source": [
    "___\n",
    "## Conclusão "
   ]
  },
  {
   "cell_type": "markdown",
   "metadata": {
    "collapsed": true
   },
   "source": [
    "Descreva aqui suas conclusões!"
   ]
  },
  {
   "cell_type": "code",
   "execution_count": null,
   "metadata": {
    "collapsed": true
   },
   "outputs": [],
   "source": []
  },
  {
   "cell_type": "code",
   "execution_count": null,
   "metadata": {
    "collapsed": true
   },
   "outputs": [],
   "source": []
  }
 ],
 "metadata": {
  "anaconda-cloud": {},
  "kernelspec": {
   "display_name": "Python 3",
   "language": "python",
   "name": "python3"
  },
  "language_info": {
   "codemirror_mode": {
    "name": "ipython",
    "version": 3
   },
   "file_extension": ".py",
   "mimetype": "text/x-python",
   "name": "python",
   "nbconvert_exporter": "python",
   "pygments_lexer": "ipython3",
   "version": "3.6.1"
  }
 },
 "nbformat": 4,
 "nbformat_minor": 1
}
